{
 "cells": [
  {
   "cell_type": "markdown",
   "metadata": {},
   "source": [
    "# 反馈分类Demo"
   ]
  },
  {
   "cell_type": "markdown",
   "metadata": {},
   "source": [
    "1. 从网络中获取了反馈列表数据并转为dataFrame"
   ]
  },
  {
   "cell_type": "code",
   "execution_count": 53,
   "metadata": {},
   "outputs": [
    {
     "data": {
      "text/html": [
       "<div>\n",
       "<style>\n",
       "    .dataframe thead tr:only-child th {\n",
       "        text-align: right;\n",
       "    }\n",
       "\n",
       "    .dataframe thead th {\n",
       "        text-align: left;\n",
       "    }\n",
       "\n",
       "    .dataframe tbody tr th {\n",
       "        vertical-align: top;\n",
       "    }\n",
       "</style>\n",
       "<table border=\"1\" class=\"dataframe\">\n",
       "  <thead>\n",
       "    <tr style=\"text-align: right;\">\n",
       "      <th></th>\n",
       "      <th>user_id</th>\n",
       "      <th>feedback_id</th>\n",
       "      <th>feedback_content</th>\n",
       "    </tr>\n",
       "  </thead>\n",
       "  <tbody>\n",
       "    <tr>\n",
       "      <th>0</th>\n",
       "      <td>1404349711835</td>\n",
       "      <td>42524503</td>\n",
       "      <td>p2p测试 不要理我 不要理我</td>\n",
       "    </tr>\n",
       "    <tr>\n",
       "      <th>1</th>\n",
       "      <td>1669444823</td>\n",
       "      <td>42523884</td>\n",
       "      <td>我的虎粮本来有很多现在全没有了</td>\n",
       "    </tr>\n",
       "    <tr>\n",
       "      <th>2</th>\n",
       "      <td>1749441496</td>\n",
       "      <td>42523073</td>\n",
       "      <td>开场没提示，贵宾席不显示领主</td>\n",
       "    </tr>\n",
       "    <tr>\n",
       "      <th>3</th>\n",
       "      <td>71128616</td>\n",
       "      <td>42522290</td>\n",
       "      <td>办理了一张大王卡，请问订单在哪里看？</td>\n",
       "    </tr>\n",
       "    <tr>\n",
       "      <th>4</th>\n",
       "      <td>1638364667</td>\n",
       "      <td>42522074</td>\n",
       "      <td>为啥我发的任何弹幕主播都看不到了？？？这就是虎牙？任何弹幕，记住任何弹幕！！！！！！！！！！！！</td>\n",
       "    </tr>\n",
       "  </tbody>\n",
       "</table>\n",
       "</div>"
      ],
      "text/plain": [
       "         user_id  feedback_id  \\\n",
       "0  1404349711835     42524503   \n",
       "1     1669444823     42523884   \n",
       "2     1749441496     42523073   \n",
       "3       71128616     42522290   \n",
       "4     1638364667     42522074   \n",
       "\n",
       "                                   feedback_content  \n",
       "0                                   p2p测试 不要理我 不要理我  \n",
       "1                                   我的虎粮本来有很多现在全没有了  \n",
       "2                                    开场没提示，贵宾席不显示领主  \n",
       "3                                办理了一张大王卡，请问订单在哪里看？  \n",
       "4  为啥我发的任何弹幕主播都看不到了？？？这就是虎牙？任何弹幕，记住任何弹幕！！！！！！！！！！！！  "
      ]
     },
     "metadata": {},
     "output_type": "display_data"
    }
   ],
   "source": [
    "import requests\n",
    "import json\n",
    "import pandas as pd\n",
    "\n",
    "r = requests.get(\n",
    "        \"http://ffilelogweb.huya.com/ajax/queryList?appId=200&page=1&pageSize=10000&isNotAutoFeedback=1\")\n",
    "\n",
    "# print r.text\n",
    "\n",
    "fb_json = json.loads(r.text)\n",
    "\n",
    "fb_data = fb_json.get('data')\n",
    "fb_labels = list(fb_data[0].keys())\n",
    "\n",
    "# print fb_labels\n",
    "df = pd.DataFrame.from_records(fb_data, columns=fb_labels)\n",
    "display(df[['user_id','feedback_id','feedback_content']].head())"
   ]
  },
  {
   "cell_type": "code",
   "execution_count": null,
   "metadata": {
    "collapsed": true
   },
   "outputs": [],
   "source": []
  },
  {
   "cell_type": "code",
   "execution_count": null,
   "metadata": {
    "collapsed": true
   },
   "outputs": [],
   "source": [
    "# %load_ext autoreload\n",
    "%autoreload"
   ]
  },
  {
   "cell_type": "code",
   "execution_count": null,
   "metadata": {
    "collapsed": true
   },
   "outputs": [],
   "source": []
  }
 ],
 "metadata": {
  "kernelspec": {
   "display_name": "Python 2",
   "language": "python",
   "name": "python2"
  },
  "language_info": {
   "codemirror_mode": {
    "name": "ipython",
    "version": 2
   },
   "file_extension": ".py",
   "mimetype": "text/x-python",
   "name": "python",
   "nbconvert_exporter": "python",
   "pygments_lexer": "ipython2",
   "version": "2.7.13"
  }
 },
 "nbformat": 4,
 "nbformat_minor": 2
}
